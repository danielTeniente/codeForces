{
 "cells": [
  {
   "cell_type": "markdown",
   "metadata": {},
   "source": [
    "# Encontrar todos los posibles caminos y ver cuántos terminan en el lugar correcto"
   ]
  },
  {
   "cell_type": "markdown",
   "metadata": {},
   "source": [
    "Puedes leer la descripción del problema aquí:  \n",
    "https://codeforces.com/problemset/problem/476/B\n",
    "\n",
    "Video explicativo en el canal: [Programación libre](https://www.youtube.com/channel/UCQn0VdnBvcnA4mca5HGnJ3w)"
   ]
  },
  {
   "cell_type": "markdown",
   "metadata": {},
   "source": [
    "Esta solución ya fue aceptada por el juez de Code Forces."
   ]
  },
  {
   "cell_type": "markdown",
   "metadata": {},
   "source": [
    "Según el problema, algunos pasos no se reciben y se marcan como `'?'`, para manejar esas interrogantes voy a usar ceros.  "
   ]
  },
  {
   "cell_type": "code",
   "execution_count": 1,
   "metadata": {},
   "outputs": [],
   "source": [
    "#entrada = ++??-+\n",
    "camino = [1,1,0,0,-1,1]\n",
    "\n",
    "#acciones posibles\n",
    "#[1,1,1,1,-1,1]\n",
    "#[1,1,-1,-1,-1,1]\n",
    "#[1,1,1,-1,-1,1]\n",
    "#[1,1,-1,1,-1,1]"
   ]
  },
  {
   "cell_type": "markdown",
   "metadata": {},
   "source": [
    "El objetivo es reemplazar esos ceros por 1 y -1."
   ]
  },
  {
   "cell_type": "markdown",
   "metadata": {},
   "source": [
    "La variable global `caminos` servirá para guardar todas las posibilidades. También tengo las acciones posibles en un array para poder iterar sobre ellas."
   ]
  },
  {
   "cell_type": "code",
   "execution_count": 3,
   "metadata": {},
   "outputs": [],
   "source": [
    "#global\n",
    "caminos = []\n",
    "\n",
    "#global\n",
    "acciones = [1,-1]"
   ]
  },
  {
   "cell_type": "markdown",
   "metadata": {},
   "source": [
    "La función recursiva `encontrar_caminos` recorrerá el arreglo recibido para encontrar la información faltante."
   ]
  },
  {
   "cell_type": "code",
   "execution_count": 2,
   "metadata": {},
   "outputs": [],
   "source": [
    "def encontrar_caminos(camino_original,camino_actual,idx_actual):\n",
    "    if(idx_actual==len(camino_original)):\n",
    "        #si el índice actual es igual a la longitud\n",
    "        #se ha terminado un camino posible\n",
    "        global caminos\n",
    "        #se almacena\n",
    "        caminos.append(camino_actual.copy())\n",
    "    else:\n",
    "        #si hay un 0, debe reemplazarlo por 1 y -1\n",
    "        if(camino_original[idx_actual]==0):\n",
    "            global acciones\n",
    "            for accion in acciones:\n",
    "                #se reemplaza el 0 por 1 o -1\n",
    "                camino_actual[idx_actual]=accion\n",
    "                #se envía el índice siguiente\n",
    "                encontrar_caminos(camino_original,camino_actual,idx_actual+1)\n",
    "        else:\n",
    "            #si la posición actual no es un 0\n",
    "            #pasa al índice siguiente\n",
    "            encontrar_caminos(camino_original,camino_actual,idx_actual+1)\n",
    "           "
   ]
  },
  {
   "cell_type": "code",
   "execution_count": 41,
   "metadata": {},
   "outputs": [],
   "source": [
    "encontrar_caminos(camino,camino.copy(),0)"
   ]
  },
  {
   "cell_type": "code",
   "execution_count": 42,
   "metadata": {},
   "outputs": [
    {
     "data": {
      "text/plain": [
       "[[1, 1, 1, 1, -1, 1],\n",
       " [1, 1, 1, -1, -1, 1],\n",
       " [1, 1, -1, 1, -1, 1],\n",
       " [1, 1, -1, -1, -1, 1]]"
      ]
     },
     "execution_count": 42,
     "metadata": {},
     "output_type": "execute_result"
    }
   ],
   "source": [
    "caminos"
   ]
  },
  {
   "cell_type": "code",
   "execution_count": 51,
   "metadata": {},
   "outputs": [],
   "source": [
    "caminos = []\n",
    "camino = [1,-1,0,1,0,0,-1]\n",
    "encontrar_caminos(camino,camino.copy(),0)"
   ]
  },
  {
   "cell_type": "code",
   "execution_count": 52,
   "metadata": {},
   "outputs": [
    {
     "data": {
      "text/plain": [
       "[[1, -1, 1, 1, 1, 1, -1],\n",
       " [1, -1, 1, 1, 1, -1, -1],\n",
       " [1, -1, 1, 1, -1, 1, -1],\n",
       " [1, -1, 1, 1, -1, -1, -1],\n",
       " [1, -1, -1, 1, 1, 1, -1],\n",
       " [1, -1, -1, 1, 1, -1, -1],\n",
       " [1, -1, -1, 1, -1, 1, -1],\n",
       " [1, -1, -1, 1, -1, -1, -1]]"
      ]
     },
     "execution_count": 52,
     "metadata": {},
     "output_type": "execute_result"
    }
   ],
   "source": [
    "caminos"
   ]
  },
  {
   "cell_type": "markdown",
   "metadata": {},
   "source": [
    "## Solución completa"
   ]
  },
  {
   "cell_type": "markdown",
   "metadata": {},
   "source": [
    "Aunque el backtracking se ha completado, hace falta agregar el componente de entrada y salida del problema."
   ]
  },
  {
   "cell_type": "markdown",
   "metadata": {},
   "source": [
    "Primero, defino una función que convierta la entrada de string a números.  \n",
    "Recordemos que la entrada puede ser +, - o ?, entonces debo transformar esos caracteres a 1, -1 o 0."
   ]
  },
  {
   "cell_type": "code",
   "execution_count": 7,
   "metadata": {},
   "outputs": [
    {
     "name": "stdin",
     "output_type": "stream",
     "text": [
      " +-+-\n",
      " +-??\n"
     ]
    }
   ],
   "source": [
    "def str2num(camino_str):\n",
    "    camino = []\n",
    "    for char in camino_str:\n",
    "        if(char=='+'):\n",
    "            camino.append(1)\n",
    "        elif(char=='-'):\n",
    "            camino.append(-1)\n",
    "        else:\n",
    "            camino.append(0)\n",
    "    return camino\n",
    "            \n",
    "camino_deseado = input()\n",
    "camino_recibido = input()\n",
    "\n",
    "camino_deseado = str2num(camino_deseado)\n",
    "camino_recibido = str2num(camino_recibido)"
   ]
  },
  {
   "cell_type": "code",
   "execution_count": 6,
   "metadata": {},
   "outputs": [
    {
     "data": {
      "text/plain": [
       "0"
      ]
     },
     "execution_count": 6,
     "metadata": {},
     "output_type": "execute_result"
    }
   ],
   "source": [
    "sum(camino_deseado)"
   ]
  },
  {
   "cell_type": "code",
   "execution_count": 8,
   "metadata": {},
   "outputs": [
    {
     "data": {
      "text/plain": [
       "[1, -1, 0, 0]"
      ]
     },
     "execution_count": 8,
     "metadata": {},
     "output_type": "execute_result"
    }
   ],
   "source": [
    "camino_recibido"
   ]
  },
  {
   "cell_type": "markdown",
   "metadata": {},
   "source": [
    "Finalmente, junto todos los componentes y tengo la solución.  \n",
    "Después de obtener todos los caminos posibles, busco cuántos terminan en el final deseado, los sumo y luego divido para el total de caminos posibles."
   ]
  },
  {
   "cell_type": "code",
   "execution_count": 15,
   "metadata": {},
   "outputs": [
    {
     "name": "stdin",
     "output_type": "stream",
     "text": [
      " +++\n",
      " ??-\n"
     ]
    },
    {
     "name": "stdout",
     "output_type": "stream",
     "text": [
      "0.0\n"
     ]
    }
   ],
   "source": [
    "#global\n",
    "caminos = []\n",
    "\n",
    "#global\n",
    "acciones = [1,-1]\n",
    "\n",
    "def encontrar_caminos(camino_original,camino_actual,idx_actual):\n",
    "    if(idx_actual==len(camino_original)):\n",
    "        global caminos\n",
    "        caminos.append(camino_actual.copy())\n",
    "    else:\n",
    "        if(camino_original[idx_actual]==0):\n",
    "            global acciones\n",
    "            for accion in acciones:\n",
    "                camino_actual[idx_actual]=accion\n",
    "                encontrar_caminos(camino_original,camino_actual,idx_actual+1)\n",
    "        else:\n",
    "            encontrar_caminos(camino_original,camino_actual,idx_actual+1)\n",
    "            \n",
    "            \n",
    "def str2num(camino_str):\n",
    "    camino = []\n",
    "    for char in camino_str:\n",
    "        if(char=='+'):\n",
    "            camino.append(1)\n",
    "        elif(char=='-'):\n",
    "            camino.append(-1)\n",
    "        else:\n",
    "            camino.append(0)\n",
    "    return camino\n",
    "            \n",
    "camino_deseado = input()\n",
    "camino_recibido = input()\n",
    "\n",
    "camino_deseado = str2num(camino_deseado)\n",
    "camino_recibido = str2num(camino_recibido)\n",
    "\n",
    "encontrar_caminos(camino_recibido,camino_recibido.copy(),0)\n",
    "\n",
    "###############################\n",
    "#SALIDA\n",
    "#################################\n",
    "\n",
    "final_deseado = sum(camino_deseado)\n",
    "finales_posibles = 0\n",
    "\n",
    "#busco cuántos terminan en el lugar deseado\n",
    "for camino in caminos:\n",
    "    if(sum(camino)==final_deseado):\n",
    "        finales_posibles +=1\n",
    "        \n",
    "#divido para el total de caminos y obtengo la probabilidad\n",
    "print(finales_posibles/len(caminos))\n",
    "    "
   ]
  },
  {
   "cell_type": "code",
   "execution_count": null,
   "metadata": {},
   "outputs": [],
   "source": []
  }
 ],
 "metadata": {
  "kernelspec": {
   "display_name": "Python 3",
   "language": "python",
   "name": "python3"
  },
  "language_info": {
   "codemirror_mode": {
    "name": "ipython",
    "version": 3
   },
   "file_extension": ".py",
   "mimetype": "text/x-python",
   "name": "python",
   "nbconvert_exporter": "python",
   "pygments_lexer": "ipython3",
   "version": "3.8.3"
  }
 },
 "nbformat": 4,
 "nbformat_minor": 4
}
